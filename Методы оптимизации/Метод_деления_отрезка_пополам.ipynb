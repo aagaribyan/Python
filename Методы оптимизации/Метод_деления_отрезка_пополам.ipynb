{
 "cells": [
  {
   "cell_type": "code",
   "execution_count": 2,
   "metadata": {},
   "outputs": [
    {
     "name": "stdout",
     "output_type": "stream",
     "text": [
      "Минимум достигается в точке х= 0.00390625  и равен 0.04719483922235668\n"
     ]
    },
    {
     "data": {
      "image/png": "[encoded data removed]",
      "text/plain": [
       "<Figure size 432x288 with 1 Axes>"
      ]
     },
     "metadata": {
      "needs_background": "light"
     },
     "output_type": "display_data"
    }
   ],
   "source": [
    "import numpy as np\n",
    "import matplotlib.pyplot as plt\n",
    "\n",
    "def func(x):  # функция f(x)\n",
    "    return 3*x**4 - 10*x**3 + 21*x**2 + 12*x\n",
    "\n",
    "# отрезок [a,b]\n",
    "a = 0\n",
    "b = 0.5\n",
    "\n",
    "#точность вычислений\n",
    "eps = 0.005\n",
    "\n",
    "# Критерий остановки\n",
    "xk1 = 0  # предыдущий X\n",
    "xk2 = (a+b)/2  # новый X (середина нового отрезка [a,b])\n",
    "\n",
    "# алгоритм метода\n",
    "while(abs(xk1-xk2)>eps):\n",
    "    x1 = (a+b)/2-eps\n",
    "    x2 = (a+b)/2+eps\n",
    "    \n",
    "    if(func(x1)<func(x2)):\n",
    "        b = (a+b)/2   # новый правый конец отрезка(середина предыдущего), если f(x1)<f(x2)\n",
    "    else:\n",
    "        a = (a+b)/2   # новый левый конец отрезкаесли f(x1)>f(x2)\n",
    "    \n",
    "    xk1 = xk2\n",
    "    xk2 = (a+b)/2\n",
    "\n",
    "print('Минимум достигается в точке х=',xk2,' и равен',func(xk2))\n",
    "\n",
    "X = np.arange (0, 0.5, 0.1)\n",
    "plt.plot(X,func(X))\n",
    "plt.plot(xk2, func(xk2), 'ro')\n",
    "plt.show()"
   ]
  },
  {
   "cell_type": "code",
   "execution_count": null,
   "metadata": {
    "collapsed": true
   },
   "outputs": [],
   "source": []
  }
 ],
 "metadata": {
  "kernelspec": {
   "display_name": "Python 3 (ipykernel)",
   "language": "python",
   "name": "python3"
  },
  "language_info": {
   "codemirror_mode": {
    "name": "ipython",
    "version": 3
   },
   "file_extension": ".py",
   "mimetype": "text/x-python",
   "name": "python",
   "nbconvert_exporter": "python",
   "pygments_lexer": "ipython3",
   "version": "3.9.12"
  }
 },
 "nbformat": 4,
 "nbformat_minor": 2
}

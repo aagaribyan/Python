{
 "cells": [
  {
   "cell_type": "code",
   "execution_count": 6,
   "metadata": {},
   "outputs": [
    {
     "data": {
      "image/png": "[encoded data removed]",
      "text/plain": [
       "<matplotlib.figure.Figure at 0x8fa2128>"
      ]
     },
     "metadata": {},
     "output_type": "display_data"
    },
    {
     "name": "stdout",
     "output_type": "stream",
     "text": [
      "Минимум достигается в точке х= 0.703323448494  и равен 3.44227737499\n"
     ]
    }
   ],
   "source": [
    "import numpy as np\n",
    "import matplotlib.pyplot as plt\n",
    "\n",
    "def func(x):          # функция f(x)\n",
    "    return np.exp(x) + 1/x\n",
    "\n",
    "def func_proizv(x):   # производная функции f(x)\n",
    "    return np.exp(x) - 1/(x**2)\n",
    "\n",
    "def X_peresech(a,b):    # точка пересечения касательных к функции f(x) в точках a и b\n",
    "    return (func(b)-func(a)+a*func_proizv(a)-b*func_proizv(b))/(func_proizv(a)-func_proizv(b))\n",
    "\n",
    "X = np.arange (0.1, 2, 0.05)\n",
    "plt.plot(X,func(X))\n",
    "\n",
    "# отрезок [a,b]\n",
    "a=0.1\n",
    "b=2\n",
    "\n",
    "# точность вычислений\n",
    "eps=0.01\n",
    "\n",
    "# алгоритм метода\n",
    "c=X_peresech(a,b)\n",
    "while(abs(func_proizv(c))>eps):  #условие остановки |f`(c)<eps|\n",
    "    if(func_proizv(c)<0):\n",
    "        a = c  # новый левый конец отрезка, если f`(c)<0\n",
    "    else:\n",
    "        b = c  # новый правый конец отрезкаесли f`(c)>0\n",
    "    c = X_peresech(a,b)  # поиск новой точки пересечения касательных\n",
    "\n",
    "plt.plot(c,func(c),'ro')\n",
    "plt.show()\n",
    "print('Минимум достигается в точке х=',c,' и равен',func(c))"
   ]
  },
  {
   "cell_type": "code",
   "execution_count": null,
   "metadata": {
    "collapsed": true
   },
   "outputs": [],
   "source": []
  }
 ],
 "metadata": {
  "kernelspec": {
   "display_name": "Python 3 (ipykernel)",
   "language": "python",
   "name": "python3"
  },
  "language_info": {
   "codemirror_mode": {
    "name": "ipython",
    "version": 3
   },
   "file_extension": ".py",
   "mimetype": "text/x-python",
   "name": "python",
   "nbconvert_exporter": "python",
   "pygments_lexer": "ipython3",
   "version": "3.9.12"
  }
 },
 "nbformat": 4,
 "nbformat_minor": 2
}

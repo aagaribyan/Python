{
 "cells": [
  {
   "cell_type": "code",
   "execution_count": 1,
   "metadata": {},
   "outputs": [],
   "source": [
    "import numpy as np"
   ]
  },
  {
   "cell_type": "code",
   "execution_count": 2,
   "metadata": {},
   "outputs": [],
   "source": [
    "def f(x1, x2):\n",
    "    return (x1+1)**2+2*(x2-1)**2\n",
    "    #return x1*x1+2*x2*x2+x1*x2-7*x1-7*x2\n",
    "    #return 20*(x2-x1**2)**2+(1-x1)**2"
   ]
  },
  {
   "cell_type": "code",
   "execution_count": 3,
   "metadata": {},
   "outputs": [],
   "source": [
    "def f1(x1, x2):\n",
    "    return 2*x1+2\n",
    "    #return 2*x1+x2-7 \n",
    "    #return -80*x1*(-x1**2+x2)+2*x1-2"
   ]
  },
  {
   "cell_type": "code",
   "execution_count": 4,
   "metadata": {},
   "outputs": [],
   "source": [
    "def f2(x1, x2):\n",
    "    return 4*x2-4\n",
    "    #return 4*x2+x1-7\n",
    "    #return -40*x1**2+40*x2"
   ]
  },
  {
   "cell_type": "code",
   "execution_count": 5,
   "metadata": {},
   "outputs": [
    {
     "name": "stdout",
     "output_type": "stream",
     "text": [
      "Точка минимума х* функции f=(x1**2+2*x2**2+x1*x2-7*x1-7*x2) (-0.9937273599999998, 0.9941017600000003)\n"
     ]
    }
   ],
   "source": [
    "eps = 10e-3\n",
    "x1 = 0\n",
    "x2 = 0\n",
    "\n",
    "while True:  \n",
    "    p1_0 = f1(x1,x2) # 1 направление по x1\n",
    "    p2_0 = f2(x1,x2)  # 1 направление по x2\n",
    "    s = 1\n",
    "    F0 = 1000000\n",
    "    \n",
    "    # вычисление наилучшего альфа\n",
    "    while True:\n",
    "        F = f(x1-s*f1(x1,x2),x2-s*f2(x1,x2))  # Ф(а)=f(xk-apk)\n",
    "        if(F < F0):\n",
    "            alf = s\n",
    "            s = s - 0.01\n",
    "            F0 = F\n",
    "        else:\n",
    "            break\n",
    "    \n",
    "    K = f(x1,x2)\n",
    "    x1 = x1-alf*p1_0    # значение x1 по х1\n",
    "    x2 = x2-alf*p2_0    # значение x2 по х2\n",
    "    f1_1 = f1(x1,x2)    # f'(x1) по x1\n",
    "    f2_1 = f2(x1,x2)    # f'(x2) по x2\n",
    "    b = (f1_1**2+f2_1**2)/(p1_0**2+p2_0**2) # находим b\n",
    "    p1_1 = f1_1+b*p1_0  # 2 направление по x1\n",
    "    p1_2 = f2_1+b*p2_0  # 2 направление по x2\n",
    "    \n",
    "    # условие остановки\n",
    "    if(abs(f(x1,x2)-K) < eps):\n",
    "        break \n",
    "\n",
    "print('Точка минимума х* функции f=(x1**2+2*x2**2+x1*x2-7*x1-7*x2)',(x1,x2))"
   ]
  },
  {
   "cell_type": "code",
   "execution_count": null,
   "metadata": {
    "collapsed": true
   },
   "outputs": [],
   "source": []
  }
 ],
 "metadata": {
  "kernelspec": {
   "display_name": "Python 3 (ipykernel)",
   "language": "python",
   "name": "python3"
  },
  "language_info": {
   "codemirror_mode": {
    "name": "ipython",
    "version": 3
   },
   "file_extension": ".py",
   "mimetype": "text/x-python",
   "name": "python",
   "nbconvert_exporter": "python",
   "pygments_lexer": "ipython3",
   "version": "3.9.12"
  }
 },
 "nbformat": 4,
 "nbformat_minor": 2
}

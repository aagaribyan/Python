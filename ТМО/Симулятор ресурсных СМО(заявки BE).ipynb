{
 "cells": [
  {
   "cell_type": "code",
   "execution_count": 1,
   "id": "61dcf021",
   "metadata": {},
   "outputs": [],
   "source": [
    "import numpy as np\n",
    "import random"
   ]
  },
  {
   "cell_type": "code",
   "execution_count": 2,
   "id": "66ec1833",
   "metadata": {},
   "outputs": [],
   "source": [
    "Time = 0       # счетчик модельного времени\n",
    "TimeLim = 1000 # ограничение времени симуляции\n",
    "lamb = 10      # параметр экспоненциального распределения времени меджу поступлениями заявок\n",
    "mu = 5         # параметр экспоненциального распределения \"размера\" заявки\n",
    "Mu = []        # список прогнозируемых моментов окончания обслуживания соответсвующих заявок\n",
    "ST = []        # список моментов поступления заявок\n",
    "All = 0        # счетчик всех поступивших заявок\n",
    "STP = 0        # сумма времен обслуживания заявок (для вычисления средней продолжительности обслуживания)\n",
    "S3 = 0         # для вычисления среднего числа заявок на приборах"
   ]
  },
  {
   "cell_type": "code",
   "execution_count": 3,
   "id": "0eb0be76",
   "metadata": {},
   "outputs": [],
   "source": [
    "while Time<TimeLim:\n",
    "    dt = random.expovariate(lamb)\n",
    "    Time += dt\n",
    "    All += 1\n",
    "    \n",
    "    # проверяем вышли ли заявки за этот интервал\n",
    "    while any(x < Time for x in Mu):\n",
    "        I = np.argmin(Mu)\n",
    "        w = Mu.pop(I)\n",
    "        STP += w - ST.pop(I)\n",
    "        for i in range(len(Mu)):\n",
    "            Mu[i] = w + (Mu[i]-w)*(len(Mu)/(len(Mu)+1))\n",
    "    \n",
    "    S3 += len(Mu)\n",
    "    \n",
    "    for i in range(len(Mu)): # поступление новой заявки\n",
    "        Mu[i] = Time + (Mu[i]-Time)*((len(Mu)+1)/len(Mu)) \n",
    "        # формально тут ещё должна быть зависимость от оставшегося свободным реусрса, но, так как тут только заявки BE, то ресурс всегда полностью распределяется между всеми заявками поровну\n",
    "    \n",
    "    Mu.append(Time+random.expovariate(mu)*(len(Mu)+1))\n",
    "    ST.append(Time)"
   ]
  },
  {
   "cell_type": "code",
   "execution_count": 4,
   "id": "659a5962",
   "metadata": {},
   "outputs": [
    {
     "name": "stdout",
     "output_type": "stream",
     "text": [
      "среднее число заявок в системе: 2501.2386444107233 , среднее время в системе: 84.48770827489368\n"
     ]
    }
   ],
   "source": [
    "print('среднее число заявок в системе:',S3/All,', среднее время в системе:',STP/All)"
   ]
  },
  {
   "cell_type": "code",
   "execution_count": null,
   "id": "b8eecb3b",
   "metadata": {},
   "outputs": [],
   "source": []
  }
 ],
 "metadata": {
  "kernelspec": {
   "display_name": "Python 3 (ipykernel)",
   "language": "python",
   "name": "python3"
  },
  "language_info": {
   "codemirror_mode": {
    "name": "ipython",
    "version": 3
   },
   "file_extension": ".py",
   "mimetype": "text/x-python",
   "name": "python",
   "nbconvert_exporter": "python",
   "pygments_lexer": "ipython3",
   "version": "3.9.12"
  }
 },
 "nbformat": 4,
 "nbformat_minor": 5
}

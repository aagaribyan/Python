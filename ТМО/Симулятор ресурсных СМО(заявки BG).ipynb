{
 "cells": [
  {
   "cell_type": "code",
   "execution_count": 1,
   "id": "ef73b934",
   "metadata": {},
   "outputs": [],
   "source": [
    "import numpy as np\n",
    "import random"
   ]
  },
  {
   "cell_type": "code",
   "execution_count": 2,
   "id": "a73ec748",
   "metadata": {},
   "outputs": [],
   "source": [
    "TETMAX = 100    # объем ресурса\n",
    "TET = TETMAX    # объем свободного ресурса\n",
    "mintet = []     # список минимальных запращиваемых объемов ресурса соответствующими заявками\n",
    "Time = 0        # счетчик модельного времени\n",
    "TimeLim = 1000  # ограничение времени симуляции\n",
    "lamb = 10       # параметр экспоненциального распределения времени меджу поступлениями заявок\n",
    "mu = 10         # параметр экспоненциального распределения \"размера\" заявки\n",
    "tau = 1         # параметр экспоненциального распределения времени ожидания в очереди\n",
    "Rmax = 5        # кол-во мест в очереди\n",
    "R = []          # очередь\n",
    "Mu = []         # список прогнозируемых моментов окончания обслуживания соответсвующих заявок\n",
    "WS = []         # список для записи момента поступления заявок в очередь\n",
    "TetR = []       # аналог mintet для заявок в очереди\n",
    "All = 0         # счетчик всех поступивших заявок\n",
    "STP = 0         # сумма времен обслуживания заявок (для вычисления средней продолжительности обслуживания)\n",
    "SWT = 0         # сумма времен ожиданий в очереди (для вычисления среднего ожидания)\n",
    "S3 = 0          # для вычисления среднего числа заявок на приборах\n",
    "SR = 0          # для вычисления средней длины очереди\n",
    "Nbg = 0         # переменная для записи количества заявок на приборах в момент времени\n",
    "block1 = 0      # счетчик заявок, не дождавшихся поступления на обслуживание\n",
    "block2 = 0      # счетчик отклоненных заявок"
   ]
  },
  {
   "cell_type": "code",
   "execution_count": 3,
   "id": "d8ece99f",
   "metadata": {},
   "outputs": [],
   "source": [
    "while Time<TimeLim:\n",
    "    dt = random.expovariate(lamb)\n",
    "    Time += dt\n",
    "    All += 1\n",
    "    \n",
    "    while any(x < Time for x in Mu):  # проверяем вышли ли заявки за этот интервал\n",
    "        I = np.argmin(Mu)\n",
    "        Nbg -= 1\n",
    "        w = Mu.pop(I)\n",
    "        TET += mintet.pop(I)\n",
    "        j=0\n",
    "        \n",
    "        for k in range(len(R)):\n",
    "            if R[j]<w:\n",
    "                # заявка не дождалась\n",
    "                R.pop(j)\n",
    "                block1 += 1\n",
    "            else:\n",
    "                # заявка дождалась\n",
    "                j += 1\n",
    "        \n",
    "        if len(R)!=0:\n",
    "            j=0\n",
    "            while TET>TetR[0]:\n",
    "                j += 1\n",
    "                Nbg += 1\n",
    "                R.pop(0)\n",
    "                SWT += w - WS.pop(0)\n",
    "                mintet.append(TetR.pop(0))\n",
    "                TET -= mintet[-1]\n",
    "                Mu.append(w + random.expovariate(mu)*TETMAX/(mintet[-1]+TET/Nbg)) #, то она поступает на прибор\n",
    "                STP += Mu[-1] - w\n",
    "                \n",
    "                if len(R)==0:\n",
    "                    break\n",
    "        \n",
    "        for i in range(Nbg-j):\n",
    "            Mu[i] = w + (Mu[i]-w)*(mintet[i]+TET/(Nbg-j+1))/(mintet[i]+TET/Nbg)\n",
    "    \n",
    "    S3 += Nbg\n",
    "    SR += len(R)\n",
    "    \n",
    "    # поступление новой заявки:\n",
    "    mt = np.random.uniform(8,15)  # минимальный требуемый объём ресурса для новой заявки\n",
    "    if TET > mt:\n",
    "        # ресурса хватает для немедленного поступления на обработку\n",
    "        Nbg += 1\n",
    "        \n",
    "        # ресурс перераспределяется и необходимо пересчитать прогнозируемые моменты окончания\n",
    "        for i in range(Nbg-1):\n",
    "            Mu[i] = Time + (Mu[i]-Time)*(mintet[i] + TET/(Nbg-1))/(mintet[i] + TET/Nbg)\n",
    "        \n",
    "        mintet.append(mt)\n",
    "        TET -= mt\n",
    "        Mu.append(Time+random.expovariate(mu)*TETMAX/(mintet[-1]+TET/Nbg)) \n",
    "        # экспоненциально с параметром mu распределено минимальное время обслуживания заявки, то есть если бы она заняла весь ресурс\n",
    "        \n",
    "        STP += Mu[-1] - Time\n",
    "    \n",
    "    elif len(R)<Rmax:\n",
    "        # в очереди есть место\n",
    "        R.append(Time+random.expovariate(tau))\n",
    "        WS.append(Time)\n",
    "        TetR.append(mt)\n",
    "    \n",
    "    else:\n",
    "        # в очереди не осталось места, заявка утеряна\n",
    "        block2 += 1\n",
    "\n",
    "if len(Mu) != 0:\n",
    "    for i in range(len(Mu)):\n",
    "        STP -= (Mu[0] - Time)\n",
    "\n",
    "if len(R) != 0:\n",
    "    for i in range(len(R)):\n",
    "        SWT += Time - WS[i]\n",
    "\n",
    "STP += SWT"
   ]
  },
  {
   "cell_type": "code",
   "execution_count": 4,
   "id": "b4730acf",
   "metadata": {},
   "outputs": [
    {
     "name": "stdout",
     "output_type": "stream",
     "text": [
      "Процент завок ушедших из системы по нетепеливости: 0.055451774653426406\n",
      "Процент заявок, заблокированых по нехватке места в системе: 0.026841018582243633\n",
      "Среднее время ожидания: 21.174646487540684\n",
      "Среднее время в системе: 21.75839001954265\n",
      "Средняя длина очереди: 0.6076098712024383\n",
      "Среднее число заявок на приборах 5.6744666207845835\n"
     ]
    }
   ],
   "source": [
    "print('Процент завок ушедших из системы по нетепеливости:', block1/All)\n",
    "print('Процент заявок, заблокированых по нехватке места в системе:', block2/All)\n",
    "print('Среднее время ожидания:', SWT/(All-block2))\n",
    "print('Среднее время в системе:', STP/(All-block2))\n",
    "print('Средняя длина очереди:', SR/All)\n",
    "print('Среднее число заявок на приборах', S3/All)"
   ]
  },
  {
   "cell_type": "code",
   "execution_count": null,
   "id": "01ddc0ed",
   "metadata": {},
   "outputs": [],
   "source": []
  }
 ],
 "metadata": {
  "kernelspec": {
   "display_name": "Python 3 (ipykernel)",
   "language": "python",
   "name": "python3"
  },
  "language_info": {
   "codemirror_mode": {
    "name": "ipython",
    "version": 3
   },
   "file_extension": ".py",
   "mimetype": "text/x-python",
   "name": "python",
   "nbconvert_exporter": "python",
   "pygments_lexer": "ipython3",
   "version": "3.9.12"
  }
 },
 "nbformat": 4,
 "nbformat_minor": 5
}
